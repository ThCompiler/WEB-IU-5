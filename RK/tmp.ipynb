{
 "cells": [
  {
   "cell_type": "markdown",
   "source": [
    "<h1><b>Ветошкин Артём Алексеевич ИУ5-53Б</b></h1>"
   ],
   "metadata": {}
  },
  {
   "cell_type": "markdown",
   "source": [
    "<h1>Задание:</h1> \r\n",
    "<h2>Вариант В.</h2>\r\n",
    "<p>\r\n",
    "«Микропроцессор» и «Компьютер» связаны соотношением один-ко-многим. Выведите список всех пк, у которых название начинается со слова \"Apple\", и названия их процессора.<br>\r\n",
    "«Микропроцессор» и «Компьютер» связаны соотношением один-ко-многим. Выведите список процессоров с минимальной стоимостью пк использующих этот процессор, отсортированный по минимальной стоимости.<br>\r\n",
    "«Микропроцессор» и «Компьютер» связаны соотношением многие-ко-многим. Выведите список всех связанных процессоров и пк, отсортированный по процессорам, сортировка по пк произвольная.</p> \r\n"
   ],
   "metadata": {}
  },
  {
   "cell_type": "code",
   "execution_count": 1,
   "source": [
    "from model import PC, Processor, PC_Processor\r\n",
    "import utilits"
   ],
   "outputs": [],
   "metadata": {}
  },
  {
   "cell_type": "markdown",
   "source": [
    "Создадим таблицу Микропроцессорами с полями id, name, frequency, memory-cash:"
   ],
   "metadata": {}
  },
  {
   "cell_type": "code",
   "execution_count": 2,
   "source": [
    "list_of_processors = [Processor(1, \"Intel i5-9600\", 3600, 128),\r\n",
    "                      Processor(2, \"Intel i7-10600\", 3700, 128),\r\n",
    "                      Processor(3, \"Intel i5-6500\", 3600, 12),\r\n",
    "                      Processor(4, \"Intel i5-6600\", 3700, 32),\r\n",
    "                      Processor(5, \"Intel i7-8600\", 3500, 64),\r\n",
    "                      Processor(6, \"Intel i7-10600\", 3800, 256),\r\n",
    "                      Processor(7, \"Intel i3-5600\", 3500, 128),\r\n",
    "                      Processor(8, \"Intel i7-4790\", 3200, 128),\r\n",
    "                      Processor(9, \"Ryzen 5 5600X\", 3800, 32),\r\n",
    "                      Processor(10, \"Ryzen 7 5800X\", 3700, 32),\r\n",
    "                      Processor(11, \"Ryzen 9 5900X\", 3700, 32),\r\n",
    "                      Processor(12, \"Ryzen 9 5950X\", 3400, 64)]\r\n"
   ],
   "outputs": [],
   "metadata": {}
  },
  {
   "cell_type": "markdown",
   "source": [
    "Создадим таблицу Компьютеры с полями id, name, price"
   ],
   "metadata": {}
  },
  {
   "cell_type": "code",
   "execution_count": 3,
   "source": [
    "list_of_pc = [PC(1, \"Lenovo IdeaCentre G5 14IMB05\", 88000, 8),\r\n",
    "              PC(2, \"HP Pavilion Gaming TG01\", 110000, 1),\r\n",
    "              PC(3, \"ZOTAC MAGNUS ONE\", 187000, 7),\r\n",
    "              PC(4, \"Apple Mac mini 2020 M1\", 173000, 6),\r\n",
    "              PC(5, \"Acer Aspire TC-895\", 34000, 7),\r\n",
    "              PC(6, \"Apple iMac 24\\\" 2021\", 248000, 11),\r\n",
    "              PC(7, \"Gigabyte GB-BR\", 93000, 4),\r\n",
    "              PC(8, \"HP M01\", 61000, 3)]\r\n"
   ],
   "outputs": [],
   "metadata": {}
  },
  {
   "cell_type": "markdown",
   "source": [
    "Создадим таблицу связи много ко многу этих двух таблиц"
   ],
   "metadata": {}
  },
  {
   "cell_type": "code",
   "execution_count": 4,
   "source": [
    "list_of_pc_processor = [PC_Processor(5, 2),\r\n",
    "                        PC_Processor(10, 1),\r\n",
    "                        PC_Processor(4, 1),\r\n",
    "                        PC_Processor(4, 2),\r\n",
    "                        PC_Processor(7, 5),\r\n",
    "                        PC_Processor(2, 1),\r\n",
    "                        PC_Processor(10, 3),\r\n",
    "                        PC_Processor(4, 2),\r\n",
    "                        PC_Processor(10, 1),\r\n",
    "                        PC_Processor(2, 5)]\r\n"
   ],
   "outputs": [],
   "metadata": {}
  },
  {
   "cell_type": "markdown",
   "source": [
    "<h3> 1 запрос </h3> «Микропроцессор» и «Компьютер» связаны соотношением один-ко-многим. Выведите список всех пк, у которых название начинается со слова \"Apple\", и названия их процессора.<br>"
   ],
   "metadata": {}
  },
  {
   "cell_type": "code",
   "execution_count": 5,
   "source": [
    "prefix = \"Apple\"\r\n",
    "correct_pc = list(filter(lambda x: x.name.startswith(prefix), list_of_pc))\r\n",
    "id_processors = list(map(lambda x: x.proc_id, correct_pc))\r\n",
    "correct_processors = list(map(lambda x: (x.name, x.id), filter(lambda x: x.id in id_processors, list_of_processors)))\r\n",
    "\r\n",
    "processor_by_id = {}\r\n",
    "for (name, proc_id) in correct_processors:\r\n",
    "    processor_by_id[proc_id] = name\r\n",
    "\r\n",
    "\r\n",
    "results = [[\"name\", \"price\", \"pc names\"]]\r\n",
    "for pc in correct_pc:\r\n",
    "    tmp_arr = []\r\n",
    "    tmp_arr.extend(pc.values())\r\n",
    "    if pc.proc_id in processor_by_id:\r\n",
    "        tmp_arr.append(processor_by_id[pc.proc_id])\r\n",
    "    else:\r\n",
    "        tmp_arr.append(\"---------------------\")\r\n",
    "    results.append(tmp_arr)\r\n",
    "\r\n",
    "\r\n",
    "utilits.print_pretty_table(results)"
   ],
   "outputs": [
    {
     "output_type": "stream",
     "name": "stdout",
     "text": [
      "                  name |  price |       pc names\n",
      "-----------------------+--------+---------------\n",
      "Apple Mac mini 2020 M1 | 173000 | Intel i7-10600\n",
      "   Apple iMac 24\" 2021 | 248000 |  Ryzen 9 5900X\n"
     ]
    }
   ],
   "metadata": {}
  },
  {
   "cell_type": "markdown",
   "source": [
    "<h3> 2 запрос </h3> «Микропроцессор» и «Компьютер» связаны соотношением один-ко-многим. Выведите список процессоров с минимальной стоимостью пк использующих этот процессор, отсортированный по минимальной стоимости.<br>"
   ],
   "metadata": {}
  },
  {
   "cell_type": "code",
   "execution_count": 9,
   "source": [
    "id_processors = list(map(lambda x: x.id, list_of_processors))\r\n",
    "prices = list(map(lambda x: (x.price, x.proc_id), filter(lambda x: x.proc_id in id_processors, list_of_pc)))\r\n",
    "\r\n",
    "correct_price_by_id = {}\r\n",
    "for (price, proc_id) in prices:\r\n",
    "    if proc_id not in correct_price_by_id or correct_price_by_id[proc_id] > price:\r\n",
    "        correct_price_by_id[proc_id] = price\r\n",
    "\r\n",
    "results = []\r\n",
    "for processor in list_of_processors:\r\n",
    "    tmp_arr = []\r\n",
    "    tmp_arr.extend(processor.values())\r\n",
    "    if processor.id in correct_price_by_id:\r\n",
    "        tmp_arr.append(correct_price_by_id[processor.id])\r\n",
    "    else:\r\n",
    "        tmp_arr.append(utilits.max_int)\r\n",
    "    results.append(tmp_arr)\r\n",
    "\r\n",
    "results = [[\"name\", \"frequancy\", \"cash memory\", \"price\"]] + list(map(lambda x: utilits.change_elem(x, \"-----------------\", 3) if x[3] == utilits.max_int else x,\r\n",
    "                                                                     sorted(results, key=lambda x: x[3])))\r\n",
    "\r\n",
    "utilits.print_pretty_table(results)"
   ],
   "outputs": [
    {
     "output_type": "stream",
     "name": "stdout",
     "text": [
      "          name | frequancy | cash memory |             price\n",
      "---------------+-----------+-------------+------------------\n",
      " Intel i3-5600 |      3500 |         128 |             34000\n",
      " Intel i5-6500 |      3600 |          12 |             61000\n",
      " Intel i7-4790 |      3200 |         128 |             88000\n",
      " Intel i5-6600 |      3700 |          32 |             93000\n",
      " Intel i5-9600 |      3600 |         128 |            110000\n",
      "Intel i7-10600 |      3800 |         256 |            173000\n",
      " Ryzen 9 5900X |      3700 |          32 |            248000\n",
      "Intel i7-10600 |      3700 |         128 | -----------------\n",
      " Intel i7-8600 |      3500 |          64 | -----------------\n",
      " Ryzen 5 5600X |      3800 |          32 | -----------------\n",
      " Ryzen 7 5800X |      3700 |          32 | -----------------\n",
      " Ryzen 9 5950X |      3400 |          64 | -----------------\n"
     ]
    }
   ],
   "metadata": {}
  },
  {
   "cell_type": "markdown",
   "source": [
    "<h3> 3 запрос </h3> «Микропроцессор» и «Компьютер» связаны соотношением многие-ко-многим. Выведите список всех связанных процессоров и пк, отсортированный по пк, сортировка по процессорам произвольная.\r\n"
   ],
   "metadata": {}
  },
  {
   "cell_type": "code",
   "execution_count": 15,
   "source": [
    "id_processors = list(map(lambda x: x.id, list_of_processors))\r\n",
    "pcs = list(filter(lambda x: x.proc_id in id_processors, list_of_pc))\r\n",
    "\r\n",
    "pcs_by_id = {}\r\n",
    "for pc in pcs:\r\n",
    "    if pc.proc_id in pcs_by_id:\r\n",
    "        pcs_by_id[pc.proc_id].append(pc)\r\n",
    "    else:\r\n",
    "        pcs_by_id[pc.proc_id] = [pc]\r\n",
    "        \r\n",
    "for key in pcs_by_id.keys():\r\n",
    "    pcs_by_id[key] = sorted(pcs_by_id[key], key=lambda x: x.name)\r\n",
    "\r\n",
    "results = [[\"name\", \"frequancy\", \"cash memory\", \"pc\"]]\r\n",
    "for processor in list_of_processors:\r\n",
    "    tmp_arr = []\r\n",
    "    tmp_arr.extend(processor.values())\r\n",
    "    if processor.id in pcs_by_id:\r\n",
    "        tmp_arr.append(pcs_by_id[processor.id])\r\n",
    "    else:\r\n",
    "        tmp_arr.append(\"-------------\")\r\n",
    "    results.append(tmp_arr)\r\n",
    "    \r\n",
    "utilits.print_pretty_table(results)"
   ],
   "outputs": [
    {
     "output_type": "stream",
     "name": "stdout",
     "text": [
      "          name | frequancy | cash memory |                                                                                                                                    pc\n",
      "---------------+-----------+-------------+--------------------------------------------------------------------------------------------------------------------------------------\n",
      " Intel i5-9600 |      3600 |         128 |                                                             [PC with id: 2; name: HP Pavilion Gaming TG01; price: 110000; proc_id: 1]\n",
      "Intel i7-10600 |      3700 |         128 |                                                                                                                         -------------\n",
      " Intel i5-6500 |      3600 |          12 |                                                                               [PC with id: 8; name: HP M01; price: 61000; proc_id: 3]\n",
      " Intel i5-6600 |      3700 |          32 |                                                                       [PC with id: 7; name: Gigabyte GB-BR; price: 93000; proc_id: 4]\n",
      " Intel i7-8600 |      3500 |          64 |                                                                                                                         -------------\n",
      "Intel i7-10600 |      3800 |         256 |                                                              [PC with id: 4; name: Apple Mac mini 2020 M1; price: 173000; proc_id: 6]\n",
      " Intel i3-5600 |      3500 |         128 | [PC with id: 5; name: Acer Aspire TC-895; price: 34000; proc_id: 7, PC with id: 3; name: ZOTAC MAGNUS ONE; price: 187000; proc_id: 7]\n",
      " Intel i7-4790 |      3200 |         128 |                                                         [PC with id: 1; name: Lenovo IdeaCentre G5 14IMB05; price: 88000; proc_id: 8]\n",
      " Ryzen 5 5600X |      3800 |          32 |                                                                                                                         -------------\n",
      " Ryzen 7 5800X |      3700 |          32 |                                                                                                                         -------------\n",
      " Ryzen 9 5900X |      3700 |          32 |                                                                [PC with id: 6; name: Apple iMac 24\" 2021; price: 248000; proc_id: 11]\n",
      " Ryzen 9 5950X |      3400 |          64 |                                                                                                                         -------------\n"
     ]
    }
   ],
   "metadata": {}
  }
 ],
 "metadata": {
  "orig_nbformat": 4,
  "language_info": {
   "name": "python",
   "version": "3.8.3",
   "mimetype": "text/x-python",
   "codemirror_mode": {
    "name": "ipython",
    "version": 3
   },
   "pygments_lexer": "ipython3",
   "nbconvert_exporter": "python",
   "file_extension": ".py"
  },
  "kernelspec": {
   "name": "python3",
   "display_name": "Python 3.8.3 64-bit ('base': conda)"
  },
  "interpreter": {
   "hash": "cc5f70855ac006f3de45a3cc3b9e7d8d53845e50458809cb162b0174266dec97"
  }
 },
 "nbformat": 4,
 "nbformat_minor": 2
}